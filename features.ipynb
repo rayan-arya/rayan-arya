{
  "cells": [
    {
      "cell_type": "markdown",
      "metadata": {
        "id": "view-in-github",
        "colab_type": "text"
      },
      "source": [
        "<a href=\"https://colab.research.google.com/github/rayan-arya/rayan-arya/blob/main/features.ipynb\" target=\"_parent\"><img src=\"https://colab.research.google.com/assets/colab-badge.svg\" alt=\"Open In Colab\"/></a>"
      ]
    },
    {
      "cell_type": "code",
      "execution_count": 1,
      "id": "9ca3ad34-5da2-41ff-8687-532987294a01",
      "metadata": {
        "colab": {
          "base_uri": "https://localhost:8080/",
          "height": 365
        },
        "id": "9ca3ad34-5da2-41ff-8687-532987294a01",
        "outputId": "c39f7c94-4528-4fa5-ecea-620dc2795d44"
      },
      "outputs": [
        {
          "output_type": "error",
          "ename": "FileNotFoundError",
          "evalue": "[Errno 2] No such file or directory: 'spy_intraday.csv'",
          "traceback": [
            "\u001b[0;31m---------------------------------------------------------------------------\u001b[0m",
            "\u001b[0;31mFileNotFoundError\u001b[0m                         Traceback (most recent call last)",
            "\u001b[0;32m/tmp/ipython-input-3890907317.py\u001b[0m in \u001b[0;36m<cell line: 0>\u001b[0;34m()\u001b[0m\n\u001b[1;32m      1\u001b[0m \u001b[0;32mimport\u001b[0m \u001b[0mpandas\u001b[0m \u001b[0;32mas\u001b[0m \u001b[0mpd\u001b[0m\u001b[0;34m\u001b[0m\u001b[0;34m\u001b[0m\u001b[0m\n\u001b[1;32m      2\u001b[0m \u001b[0;34m\u001b[0m\u001b[0m\n\u001b[0;32m----> 3\u001b[0;31m \u001b[0mdf\u001b[0m \u001b[0;34m=\u001b[0m \u001b[0mpd\u001b[0m\u001b[0;34m.\u001b[0m\u001b[0mread_csv\u001b[0m\u001b[0;34m(\u001b[0m\u001b[0;34m\"spy_intraday.csv\"\u001b[0m\u001b[0;34m,\u001b[0m \u001b[0mindex_col\u001b[0m\u001b[0;34m=\u001b[0m\u001b[0;36m0\u001b[0m\u001b[0;34m,\u001b[0m \u001b[0mparse_dates\u001b[0m\u001b[0;34m=\u001b[0m\u001b[0;32mTrue\u001b[0m\u001b[0;34m)\u001b[0m\u001b[0;34m\u001b[0m\u001b[0;34m\u001b[0m\u001b[0m\n\u001b[0m\u001b[1;32m      4\u001b[0m \u001b[0mdf\u001b[0m\u001b[0;34m.\u001b[0m\u001b[0mhead\u001b[0m\u001b[0;34m(\u001b[0m\u001b[0;34m)\u001b[0m\u001b[0;34m\u001b[0m\u001b[0;34m\u001b[0m\u001b[0m\n\u001b[1;32m      5\u001b[0m \u001b[0;34m\u001b[0m\u001b[0m\n",
            "\u001b[0;32m/usr/local/lib/python3.12/dist-packages/pandas/io/parsers/readers.py\u001b[0m in \u001b[0;36mread_csv\u001b[0;34m(filepath_or_buffer, sep, delimiter, header, names, index_col, usecols, dtype, engine, converters, true_values, false_values, skipinitialspace, skiprows, skipfooter, nrows, na_values, keep_default_na, na_filter, verbose, skip_blank_lines, parse_dates, infer_datetime_format, keep_date_col, date_parser, date_format, dayfirst, cache_dates, iterator, chunksize, compression, thousands, decimal, lineterminator, quotechar, quoting, doublequote, escapechar, comment, encoding, encoding_errors, dialect, on_bad_lines, delim_whitespace, low_memory, memory_map, float_precision, storage_options, dtype_backend)\u001b[0m\n\u001b[1;32m   1024\u001b[0m     \u001b[0mkwds\u001b[0m\u001b[0;34m.\u001b[0m\u001b[0mupdate\u001b[0m\u001b[0;34m(\u001b[0m\u001b[0mkwds_defaults\u001b[0m\u001b[0;34m)\u001b[0m\u001b[0;34m\u001b[0m\u001b[0;34m\u001b[0m\u001b[0m\n\u001b[1;32m   1025\u001b[0m \u001b[0;34m\u001b[0m\u001b[0m\n\u001b[0;32m-> 1026\u001b[0;31m     \u001b[0;32mreturn\u001b[0m \u001b[0m_read\u001b[0m\u001b[0;34m(\u001b[0m\u001b[0mfilepath_or_buffer\u001b[0m\u001b[0;34m,\u001b[0m \u001b[0mkwds\u001b[0m\u001b[0;34m)\u001b[0m\u001b[0;34m\u001b[0m\u001b[0;34m\u001b[0m\u001b[0m\n\u001b[0m\u001b[1;32m   1027\u001b[0m \u001b[0;34m\u001b[0m\u001b[0m\n\u001b[1;32m   1028\u001b[0m \u001b[0;34m\u001b[0m\u001b[0m\n",
            "\u001b[0;32m/usr/local/lib/python3.12/dist-packages/pandas/io/parsers/readers.py\u001b[0m in \u001b[0;36m_read\u001b[0;34m(filepath_or_buffer, kwds)\u001b[0m\n\u001b[1;32m    618\u001b[0m \u001b[0;34m\u001b[0m\u001b[0m\n\u001b[1;32m    619\u001b[0m     \u001b[0;31m# Create the parser.\u001b[0m\u001b[0;34m\u001b[0m\u001b[0;34m\u001b[0m\u001b[0m\n\u001b[0;32m--> 620\u001b[0;31m     \u001b[0mparser\u001b[0m \u001b[0;34m=\u001b[0m \u001b[0mTextFileReader\u001b[0m\u001b[0;34m(\u001b[0m\u001b[0mfilepath_or_buffer\u001b[0m\u001b[0;34m,\u001b[0m \u001b[0;34m**\u001b[0m\u001b[0mkwds\u001b[0m\u001b[0;34m)\u001b[0m\u001b[0;34m\u001b[0m\u001b[0;34m\u001b[0m\u001b[0m\n\u001b[0m\u001b[1;32m    621\u001b[0m \u001b[0;34m\u001b[0m\u001b[0m\n\u001b[1;32m    622\u001b[0m     \u001b[0;32mif\u001b[0m \u001b[0mchunksize\u001b[0m \u001b[0;32mor\u001b[0m \u001b[0miterator\u001b[0m\u001b[0;34m:\u001b[0m\u001b[0;34m\u001b[0m\u001b[0;34m\u001b[0m\u001b[0m\n",
            "\u001b[0;32m/usr/local/lib/python3.12/dist-packages/pandas/io/parsers/readers.py\u001b[0m in \u001b[0;36m__init__\u001b[0;34m(self, f, engine, **kwds)\u001b[0m\n\u001b[1;32m   1618\u001b[0m \u001b[0;34m\u001b[0m\u001b[0m\n\u001b[1;32m   1619\u001b[0m         \u001b[0mself\u001b[0m\u001b[0;34m.\u001b[0m\u001b[0mhandles\u001b[0m\u001b[0;34m:\u001b[0m \u001b[0mIOHandles\u001b[0m \u001b[0;34m|\u001b[0m \u001b[0;32mNone\u001b[0m \u001b[0;34m=\u001b[0m \u001b[0;32mNone\u001b[0m\u001b[0;34m\u001b[0m\u001b[0;34m\u001b[0m\u001b[0m\n\u001b[0;32m-> 1620\u001b[0;31m         \u001b[0mself\u001b[0m\u001b[0;34m.\u001b[0m\u001b[0m_engine\u001b[0m \u001b[0;34m=\u001b[0m \u001b[0mself\u001b[0m\u001b[0;34m.\u001b[0m\u001b[0m_make_engine\u001b[0m\u001b[0;34m(\u001b[0m\u001b[0mf\u001b[0m\u001b[0;34m,\u001b[0m \u001b[0mself\u001b[0m\u001b[0;34m.\u001b[0m\u001b[0mengine\u001b[0m\u001b[0;34m)\u001b[0m\u001b[0;34m\u001b[0m\u001b[0;34m\u001b[0m\u001b[0m\n\u001b[0m\u001b[1;32m   1621\u001b[0m \u001b[0;34m\u001b[0m\u001b[0m\n\u001b[1;32m   1622\u001b[0m     \u001b[0;32mdef\u001b[0m \u001b[0mclose\u001b[0m\u001b[0;34m(\u001b[0m\u001b[0mself\u001b[0m\u001b[0;34m)\u001b[0m \u001b[0;34m->\u001b[0m \u001b[0;32mNone\u001b[0m\u001b[0;34m:\u001b[0m\u001b[0;34m\u001b[0m\u001b[0;34m\u001b[0m\u001b[0m\n",
            "\u001b[0;32m/usr/local/lib/python3.12/dist-packages/pandas/io/parsers/readers.py\u001b[0m in \u001b[0;36m_make_engine\u001b[0;34m(self, f, engine)\u001b[0m\n\u001b[1;32m   1878\u001b[0m                 \u001b[0;32mif\u001b[0m \u001b[0;34m\"b\"\u001b[0m \u001b[0;32mnot\u001b[0m \u001b[0;32min\u001b[0m \u001b[0mmode\u001b[0m\u001b[0;34m:\u001b[0m\u001b[0;34m\u001b[0m\u001b[0;34m\u001b[0m\u001b[0m\n\u001b[1;32m   1879\u001b[0m                     \u001b[0mmode\u001b[0m \u001b[0;34m+=\u001b[0m \u001b[0;34m\"b\"\u001b[0m\u001b[0;34m\u001b[0m\u001b[0;34m\u001b[0m\u001b[0m\n\u001b[0;32m-> 1880\u001b[0;31m             self.handles = get_handle(\n\u001b[0m\u001b[1;32m   1881\u001b[0m                 \u001b[0mf\u001b[0m\u001b[0;34m,\u001b[0m\u001b[0;34m\u001b[0m\u001b[0;34m\u001b[0m\u001b[0m\n\u001b[1;32m   1882\u001b[0m                 \u001b[0mmode\u001b[0m\u001b[0;34m,\u001b[0m\u001b[0;34m\u001b[0m\u001b[0;34m\u001b[0m\u001b[0m\n",
            "\u001b[0;32m/usr/local/lib/python3.12/dist-packages/pandas/io/common.py\u001b[0m in \u001b[0;36mget_handle\u001b[0;34m(path_or_buf, mode, encoding, compression, memory_map, is_text, errors, storage_options)\u001b[0m\n\u001b[1;32m    871\u001b[0m         \u001b[0;32mif\u001b[0m \u001b[0mioargs\u001b[0m\u001b[0;34m.\u001b[0m\u001b[0mencoding\u001b[0m \u001b[0;32mand\u001b[0m \u001b[0;34m\"b\"\u001b[0m \u001b[0;32mnot\u001b[0m \u001b[0;32min\u001b[0m \u001b[0mioargs\u001b[0m\u001b[0;34m.\u001b[0m\u001b[0mmode\u001b[0m\u001b[0;34m:\u001b[0m\u001b[0;34m\u001b[0m\u001b[0;34m\u001b[0m\u001b[0m\n\u001b[1;32m    872\u001b[0m             \u001b[0;31m# Encoding\u001b[0m\u001b[0;34m\u001b[0m\u001b[0;34m\u001b[0m\u001b[0m\n\u001b[0;32m--> 873\u001b[0;31m             handle = open(\n\u001b[0m\u001b[1;32m    874\u001b[0m                 \u001b[0mhandle\u001b[0m\u001b[0;34m,\u001b[0m\u001b[0;34m\u001b[0m\u001b[0;34m\u001b[0m\u001b[0m\n\u001b[1;32m    875\u001b[0m                 \u001b[0mioargs\u001b[0m\u001b[0;34m.\u001b[0m\u001b[0mmode\u001b[0m\u001b[0;34m,\u001b[0m\u001b[0;34m\u001b[0m\u001b[0;34m\u001b[0m\u001b[0m\n",
            "\u001b[0;31mFileNotFoundError\u001b[0m: [Errno 2] No such file or directory: 'spy_intraday.csv'"
          ]
        }
      ],
      "source": [
        "import pandas as pd\n",
        "\n",
        "df = pd.read_csv(\"spy_intraday.csv\", index_col=0, parse_dates=True)\n",
        "df.head()\n",
        "\n"
      ]
    },
    {
      "cell_type": "code",
      "execution_count": null,
      "id": "c0a2cfae-79af-460a-9f44-14638e2d1edf",
      "metadata": {
        "id": "c0a2cfae-79af-460a-9f44-14638e2d1edf",
        "outputId": "739ca82a-4428-4863-bec2-eb5a73907cc7"
      },
      "outputs": [
        {
          "data": {
            "text/plain": [
              "['get_data.ipynb', 'features.ipynb', '.ipynb_checkpoints']"
            ]
          },
          "execution_count": 14,
          "metadata": {},
          "output_type": "execute_result"
        }
      ],
      "source": [
        "import os\n",
        "os.listdir()\n"
      ]
    },
    {
      "cell_type": "code",
      "execution_count": null,
      "id": "652ebfe4-082e-461b-9d17-907698a1117c",
      "metadata": {
        "id": "652ebfe4-082e-461b-9d17-907698a1117c"
      },
      "outputs": [],
      "source": [
        "#log returns - % change from each bar\n",
        "\n",
        "df['Return'] = (df['Close'] / df['Close'].shift(1))-1"
      ]
    },
    {
      "cell_type": "code",
      "execution_count": null,
      "id": "b37306d4-46ce-4bd5-bb75-05d847339f24",
      "metadata": {
        "id": "b37306d4-46ce-4bd5-bb75-05d847339f24"
      },
      "outputs": [],
      "source": [
        "#lag(see the past)\n",
        "\n",
        "for i in range(1, 6):\n",
        "    df[f'return_lag_{i}'] = df['Return'].shift(i)"
      ]
    },
    {
      "cell_type": "code",
      "execution_count": null,
      "id": "32ee9285-9bf8-4c18-af9d-3da9a673e0b1",
      "metadata": {
        "id": "32ee9285-9bf8-4c18-af9d-3da9a673e0b1",
        "outputId": "1252405a-5c1c-4596-8c2f-ed4370b59a4d"
      },
      "outputs": [
        {
          "name": "stdout",
          "output_type": "stream",
          "text": [
            "Collecting ta\n",
            "  Downloading ta-0.11.0.tar.gz (25 kB)\n",
            "  Installing build dependencies ... \u001b[?25ldone\n",
            "\u001b[?25h  Getting requirements to build wheel ... \u001b[?25ldone\n",
            "\u001b[?25h  Preparing metadata (pyproject.toml) ... \u001b[?25ldone\n",
            "\u001b[?25hRequirement already satisfied: numpy in /Users/rayanarya/quant-signal-predictor/summer-2025/lib/python3.11/site-packages (from ta) (2.3.2)\n",
            "Requirement already satisfied: pandas in /Users/rayanarya/quant-signal-predictor/summer-2025/lib/python3.11/site-packages (from ta) (2.3.1)\n",
            "Requirement already satisfied: python-dateutil>=2.8.2 in /Users/rayanarya/quant-signal-predictor/summer-2025/lib/python3.11/site-packages (from pandas->ta) (2.9.0.post0)\n",
            "Requirement already satisfied: pytz>=2020.1 in /Users/rayanarya/quant-signal-predictor/summer-2025/lib/python3.11/site-packages (from pandas->ta) (2025.2)\n",
            "Requirement already satisfied: tzdata>=2022.7 in /Users/rayanarya/quant-signal-predictor/summer-2025/lib/python3.11/site-packages (from pandas->ta) (2025.2)\n",
            "Requirement already satisfied: six>=1.5 in /Users/rayanarya/quant-signal-predictor/summer-2025/lib/python3.11/site-packages (from python-dateutil>=2.8.2->pandas->ta) (1.17.0)\n",
            "Building wheels for collected packages: ta\n",
            "  Building wheel for ta (pyproject.toml) ... \u001b[?25ldone\n",
            "\u001b[?25h  Created wheel for ta: filename=ta-0.11.0-py3-none-any.whl size=29482 sha256=6d986616a504876fe47f3ea5f829e2cd3cba9153a93d58574a5b3c049f3fb93c\n",
            "  Stored in directory: /Users/rayanarya/Library/Caches/pip/wheels/a1/d7/29/7781cc5eb9a3659d032d7d15bdd0f49d07d2b24fec29f44bc4\n",
            "Successfully built ta\n",
            "Installing collected packages: ta\n",
            "Successfully installed ta-0.11.0\n",
            "Note: you may need to restart the kernel to use updated packages.\n"
          ]
        }
      ],
      "source": [
        "pip install ta"
      ]
    },
    {
      "cell_type": "code",
      "execution_count": null,
      "id": "7d838476-f8d6-4fa8-ab8c-4666e80b6463",
      "metadata": {
        "id": "7d838476-f8d6-4fa8-ab8c-4666e80b6463"
      },
      "outputs": [],
      "source": [
        "from ta.trend import MACD\n",
        "from ta.momentum import RSIIndicator\n",
        "from ta.volatility import BollingerBands\n",
        "\n",
        "#rsi\n",
        "rsi = RSIIndicator(close=df['Close'])\n",
        "df['RSI'] = rsi.rsi()\n",
        "\n",
        "#momentum indicator\n",
        "macd = MACD(close=df['Close'])\n",
        "df['MACD'] = macd.macd_diff()\n",
        "\n",
        "#Volatility\n",
        "bb = BollingerBands(close=df['Close'])\n",
        "df['BB_High'] = bb.bollinger_hband()\n",
        "df['BB_Low'] = bb.bollinger_lband()\n",
        "df['BB_Width'] = bb.bollinger_wband()"
      ]
    },
    {
      "cell_type": "code",
      "execution_count": null,
      "id": "5969f4fc-ed2b-40cc-8a09-6bfb40784fdd",
      "metadata": {
        "id": "5969f4fc-ed2b-40cc-8a09-6bfb40784fdd",
        "outputId": "798af44d-b3b6-4132-e5d6-e2917c9f6701"
      },
      "outputs": [
        {
          "data": {
            "text/html": [
              "<div>\n",
              "<style scoped>\n",
              "    .dataframe tbody tr th:only-of-type {\n",
              "        vertical-align: middle;\n",
              "    }\n",
              "\n",
              "    .dataframe tbody tr th {\n",
              "        vertical-align: top;\n",
              "    }\n",
              "\n",
              "    .dataframe thead th {\n",
              "        text-align: right;\n",
              "    }\n",
              "</style>\n",
              "<table border=\"1\" class=\"dataframe\">\n",
              "  <thead>\n",
              "    <tr style=\"text-align: right;\">\n",
              "      <th></th>\n",
              "      <th>Open</th>\n",
              "      <th>High</th>\n",
              "      <th>Low</th>\n",
              "      <th>Close</th>\n",
              "      <th>Volume</th>\n",
              "      <th>Return</th>\n",
              "      <th>return_lag_1</th>\n",
              "      <th>return_lag_2</th>\n",
              "      <th>return_lag_3</th>\n",
              "      <th>return_lag_4</th>\n",
              "      <th>return_lag_5</th>\n",
              "      <th>RSI</th>\n",
              "      <th>MACD</th>\n",
              "      <th>BB_High</th>\n",
              "      <th>BB_Low</th>\n",
              "      <th>BB_Width</th>\n",
              "    </tr>\n",
              "    <tr>\n",
              "      <th>Datetime</th>\n",
              "      <th></th>\n",
              "      <th></th>\n",
              "      <th></th>\n",
              "      <th></th>\n",
              "      <th></th>\n",
              "      <th></th>\n",
              "      <th></th>\n",
              "      <th></th>\n",
              "      <th></th>\n",
              "      <th></th>\n",
              "      <th></th>\n",
              "      <th></th>\n",
              "      <th></th>\n",
              "      <th></th>\n",
              "      <th></th>\n",
              "      <th></th>\n",
              "    </tr>\n",
              "  </thead>\n",
              "  <tbody>\n",
              "    <tr>\n",
              "      <th>2025-07-23 12:15:00-04:00</th>\n",
              "      <td>631.929993</td>\n",
              "      <td>632.159973</td>\n",
              "      <td>631.640015</td>\n",
              "      <td>632.059998</td>\n",
              "      <td>612205</td>\n",
              "      <td>0.000222</td>\n",
              "      <td>-0.000680</td>\n",
              "      <td>-0.000269</td>\n",
              "      <td>0.000720</td>\n",
              "      <td>0.000483</td>\n",
              "      <td>0.001363</td>\n",
              "      <td>65.080012</td>\n",
              "      <td>0.155240</td>\n",
              "      <td>632.487499</td>\n",
              "      <td>629.663526</td>\n",
              "      <td>0.447486</td>\n",
              "    </tr>\n",
              "    <tr>\n",
              "      <th>2025-07-23 12:20:00-04:00</th>\n",
              "      <td>632.059021</td>\n",
              "      <td>632.130005</td>\n",
              "      <td>631.380005</td>\n",
              "      <td>631.664978</td>\n",
              "      <td>622928</td>\n",
              "      <td>-0.000625</td>\n",
              "      <td>0.000222</td>\n",
              "      <td>-0.000680</td>\n",
              "      <td>-0.000269</td>\n",
              "      <td>0.000720</td>\n",
              "      <td>0.000483</td>\n",
              "      <td>57.329348</td>\n",
              "      <td>0.105938</td>\n",
              "      <td>632.534214</td>\n",
              "      <td>629.748489</td>\n",
              "      <td>0.441379</td>\n",
              "    </tr>\n",
              "    <tr>\n",
              "      <th>2025-07-23 12:25:00-04:00</th>\n",
              "      <td>631.669983</td>\n",
              "      <td>631.820007</td>\n",
              "      <td>631.479980</td>\n",
              "      <td>631.690002</td>\n",
              "      <td>358159</td>\n",
              "      <td>0.000040</td>\n",
              "      <td>-0.000625</td>\n",
              "      <td>0.000222</td>\n",
              "      <td>-0.000680</td>\n",
              "      <td>-0.000269</td>\n",
              "      <td>0.000720</td>\n",
              "      <td>57.673251</td>\n",
              "      <td>0.068671</td>\n",
              "      <td>632.571844</td>\n",
              "      <td>629.843860</td>\n",
              "      <td>0.432185</td>\n",
              "    </tr>\n",
              "    <tr>\n",
              "      <th>2025-07-23 12:30:00-04:00</th>\n",
              "      <td>631.679993</td>\n",
              "      <td>631.679993</td>\n",
              "      <td>631.349976</td>\n",
              "      <td>631.390015</td>\n",
              "      <td>498709</td>\n",
              "      <td>-0.000475</td>\n",
              "      <td>0.000040</td>\n",
              "      <td>-0.000625</td>\n",
              "      <td>0.000222</td>\n",
              "      <td>-0.000680</td>\n",
              "      <td>-0.000269</td>\n",
              "      <td>52.238020</td>\n",
              "      <td>0.020002</td>\n",
              "      <td>632.585462</td>\n",
              "      <td>629.906244</td>\n",
              "      <td>0.424433</td>\n",
              "    </tr>\n",
              "    <tr>\n",
              "      <th>2025-07-23 12:35:00-04:00</th>\n",
              "      <td>631.400024</td>\n",
              "      <td>631.739990</td>\n",
              "      <td>631.349487</td>\n",
              "      <td>631.679993</td>\n",
              "      <td>468038</td>\n",
              "      <td>0.000459</td>\n",
              "      <td>-0.000475</td>\n",
              "      <td>0.000040</td>\n",
              "      <td>-0.000625</td>\n",
              "      <td>0.000222</td>\n",
              "      <td>-0.000680</td>\n",
              "      <td>56.505076</td>\n",
              "      <td>0.004343</td>\n",
              "      <td>632.622653</td>\n",
              "      <td>629.967051</td>\n",
              "      <td>0.420660</td>\n",
              "    </tr>\n",
              "  </tbody>\n",
              "</table>\n",
              "</div>"
            ],
            "text/plain": [
              "                                 Open        High         Low       Close  \\\n",
              "Datetime                                                                    \n",
              "2025-07-23 12:15:00-04:00  631.929993  632.159973  631.640015  632.059998   \n",
              "2025-07-23 12:20:00-04:00  632.059021  632.130005  631.380005  631.664978   \n",
              "2025-07-23 12:25:00-04:00  631.669983  631.820007  631.479980  631.690002   \n",
              "2025-07-23 12:30:00-04:00  631.679993  631.679993  631.349976  631.390015   \n",
              "2025-07-23 12:35:00-04:00  631.400024  631.739990  631.349487  631.679993   \n",
              "\n",
              "                           Volume    Return  return_lag_1  return_lag_2  \\\n",
              "Datetime                                                                  \n",
              "2025-07-23 12:15:00-04:00  612205  0.000222     -0.000680     -0.000269   \n",
              "2025-07-23 12:20:00-04:00  622928 -0.000625      0.000222     -0.000680   \n",
              "2025-07-23 12:25:00-04:00  358159  0.000040     -0.000625      0.000222   \n",
              "2025-07-23 12:30:00-04:00  498709 -0.000475      0.000040     -0.000625   \n",
              "2025-07-23 12:35:00-04:00  468038  0.000459     -0.000475      0.000040   \n",
              "\n",
              "                           return_lag_3  return_lag_4  return_lag_5  \\\n",
              "Datetime                                                              \n",
              "2025-07-23 12:15:00-04:00      0.000720      0.000483      0.001363   \n",
              "2025-07-23 12:20:00-04:00     -0.000269      0.000720      0.000483   \n",
              "2025-07-23 12:25:00-04:00     -0.000680     -0.000269      0.000720   \n",
              "2025-07-23 12:30:00-04:00      0.000222     -0.000680     -0.000269   \n",
              "2025-07-23 12:35:00-04:00     -0.000625      0.000222     -0.000680   \n",
              "\n",
              "                                 RSI      MACD     BB_High      BB_Low  \\\n",
              "Datetime                                                                 \n",
              "2025-07-23 12:15:00-04:00  65.080012  0.155240  632.487499  629.663526   \n",
              "2025-07-23 12:20:00-04:00  57.329348  0.105938  632.534214  629.748489   \n",
              "2025-07-23 12:25:00-04:00  57.673251  0.068671  632.571844  629.843860   \n",
              "2025-07-23 12:30:00-04:00  52.238020  0.020002  632.585462  629.906244   \n",
              "2025-07-23 12:35:00-04:00  56.505076  0.004343  632.622653  629.967051   \n",
              "\n",
              "                           BB_Width  \n",
              "Datetime                             \n",
              "2025-07-23 12:15:00-04:00  0.447486  \n",
              "2025-07-23 12:20:00-04:00  0.441379  \n",
              "2025-07-23 12:25:00-04:00  0.432185  \n",
              "2025-07-23 12:30:00-04:00  0.424433  \n",
              "2025-07-23 12:35:00-04:00  0.420660  "
            ]
          },
          "execution_count": 23,
          "metadata": {},
          "output_type": "execute_result"
        }
      ],
      "source": [
        "df = df.dropna()\n",
        "df.head()"
      ]
    },
    {
      "cell_type": "code",
      "execution_count": null,
      "id": "f4345dff-3e17-435c-be34-f26ffa3881fc",
      "metadata": {
        "id": "f4345dff-3e17-435c-be34-f26ffa3881fc"
      },
      "outputs": [],
      "source": [
        "df.to_csv(\"spy_features.csv\")"
      ]
    },
    {
      "cell_type": "code",
      "execution_count": null,
      "id": "83a7d61e-bd29-46ed-b290-82842f84099f",
      "metadata": {
        "id": "83a7d61e-bd29-46ed-b290-82842f84099f"
      },
      "outputs": [],
      "source": []
    }
  ],
  "metadata": {
    "kernelspec": {
      "display_name": "Python 3 (ipykernel)",
      "language": "python",
      "name": "python3"
    },
    "language_info": {
      "codemirror_mode": {
        "name": "ipython",
        "version": 3
      },
      "file_extension": ".py",
      "mimetype": "text/x-python",
      "name": "python",
      "nbconvert_exporter": "python",
      "pygments_lexer": "ipython3",
      "version": "3.11.9"
    },
    "colab": {
      "provenance": [],
      "include_colab_link": true
    }
  },
  "nbformat": 4,
  "nbformat_minor": 5
}