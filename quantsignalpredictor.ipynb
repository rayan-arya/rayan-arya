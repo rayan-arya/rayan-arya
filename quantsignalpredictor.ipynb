{
  "nbformat": 4,
  "nbformat_minor": 0,
  "metadata": {
    "colab": {
      "provenance": [],
      "authorship_tag": "ABX9TyM4h4hth7Jk566TQt0Jmz79",
      "include_colab_link": true
    },
    "kernelspec": {
      "name": "python3",
      "display_name": "Python 3"
    },
    "language_info": {
      "name": "python"
    }
  },
  "cells": [
    {
      "cell_type": "markdown",
      "metadata": {
        "id": "view-in-github",
        "colab_type": "text"
      },
      "source": [
        "<a href=\"https://colab.research.google.com/github/rayan-arya/rayan-arya/blob/main/quantsignalpredictor.ipynb\" target=\"_parent\"><img src=\"https://colab.research.google.com/assets/colab-badge.svg\" alt=\"Open In Colab\"/></a>"
      ]
    },
    {
      "cell_type": "markdown",
      "source": [
        "Part 1 - get data"
      ],
      "metadata": {
        "id": "tB8pe-MQN08R"
      }
    },
    {
      "cell_type": "code",
      "execution_count": 1,
      "metadata": {
        "colab": {
          "base_uri": "https://localhost:8080/",
          "height": 238
        },
        "id": "55AmwJKENd4m",
        "outputId": "e771701d-05ad-4521-ca69-491b047b8381"
      },
      "outputs": [
        {
          "output_type": "execute_result",
          "data": {
            "text/plain": [
              "                                 Open        High         Low       Close  \\\n",
              "Datetime                                                                    \n",
              "2025-08-13 09:30:00-04:00  644.909973  645.309998  644.489990  645.159973   \n",
              "2025-08-13 09:35:00-04:00  645.190002  645.559998  644.971985  645.475098   \n",
              "2025-08-13 09:40:00-04:00  645.409973  645.539978  645.200012  645.530029   \n",
              "2025-08-13 09:45:00-04:00  645.539978  645.885010  645.375000  645.859985   \n",
              "2025-08-13 09:50:00-04:00  645.869995  646.190002  645.859985  646.054993   \n",
              "\n",
              "                            Volume  Dividends  Stock Splits  Capital Gains  \n",
              "Datetime                                                                    \n",
              "2025-08-13 09:30:00-04:00  2767643        0.0           0.0            0.0  \n",
              "2025-08-13 09:35:00-04:00   836062        0.0           0.0            0.0  \n",
              "2025-08-13 09:40:00-04:00  1086503        0.0           0.0            0.0  \n",
              "2025-08-13 09:45:00-04:00  1081051        0.0           0.0            0.0  \n",
              "2025-08-13 09:50:00-04:00   935435        0.0           0.0            0.0  "
            ],
            "text/html": [
              "\n",
              "  <div id=\"df-b4a3ad23-49d7-4922-b871-960453c52cc5\" class=\"colab-df-container\">\n",
              "    <div>\n",
              "<style scoped>\n",
              "    .dataframe tbody tr th:only-of-type {\n",
              "        vertical-align: middle;\n",
              "    }\n",
              "\n",
              "    .dataframe tbody tr th {\n",
              "        vertical-align: top;\n",
              "    }\n",
              "\n",
              "    .dataframe thead th {\n",
              "        text-align: right;\n",
              "    }\n",
              "</style>\n",
              "<table border=\"1\" class=\"dataframe\">\n",
              "  <thead>\n",
              "    <tr style=\"text-align: right;\">\n",
              "      <th></th>\n",
              "      <th>Open</th>\n",
              "      <th>High</th>\n",
              "      <th>Low</th>\n",
              "      <th>Close</th>\n",
              "      <th>Volume</th>\n",
              "      <th>Dividends</th>\n",
              "      <th>Stock Splits</th>\n",
              "      <th>Capital Gains</th>\n",
              "    </tr>\n",
              "    <tr>\n",
              "      <th>Datetime</th>\n",
              "      <th></th>\n",
              "      <th></th>\n",
              "      <th></th>\n",
              "      <th></th>\n",
              "      <th></th>\n",
              "      <th></th>\n",
              "      <th></th>\n",
              "      <th></th>\n",
              "    </tr>\n",
              "  </thead>\n",
              "  <tbody>\n",
              "    <tr>\n",
              "      <th>2025-08-13 09:30:00-04:00</th>\n",
              "      <td>644.909973</td>\n",
              "      <td>645.309998</td>\n",
              "      <td>644.489990</td>\n",
              "      <td>645.159973</td>\n",
              "      <td>2767643</td>\n",
              "      <td>0.0</td>\n",
              "      <td>0.0</td>\n",
              "      <td>0.0</td>\n",
              "    </tr>\n",
              "    <tr>\n",
              "      <th>2025-08-13 09:35:00-04:00</th>\n",
              "      <td>645.190002</td>\n",
              "      <td>645.559998</td>\n",
              "      <td>644.971985</td>\n",
              "      <td>645.475098</td>\n",
              "      <td>836062</td>\n",
              "      <td>0.0</td>\n",
              "      <td>0.0</td>\n",
              "      <td>0.0</td>\n",
              "    </tr>\n",
              "    <tr>\n",
              "      <th>2025-08-13 09:40:00-04:00</th>\n",
              "      <td>645.409973</td>\n",
              "      <td>645.539978</td>\n",
              "      <td>645.200012</td>\n",
              "      <td>645.530029</td>\n",
              "      <td>1086503</td>\n",
              "      <td>0.0</td>\n",
              "      <td>0.0</td>\n",
              "      <td>0.0</td>\n",
              "    </tr>\n",
              "    <tr>\n",
              "      <th>2025-08-13 09:45:00-04:00</th>\n",
              "      <td>645.539978</td>\n",
              "      <td>645.885010</td>\n",
              "      <td>645.375000</td>\n",
              "      <td>645.859985</td>\n",
              "      <td>1081051</td>\n",
              "      <td>0.0</td>\n",
              "      <td>0.0</td>\n",
              "      <td>0.0</td>\n",
              "    </tr>\n",
              "    <tr>\n",
              "      <th>2025-08-13 09:50:00-04:00</th>\n",
              "      <td>645.869995</td>\n",
              "      <td>646.190002</td>\n",
              "      <td>645.859985</td>\n",
              "      <td>646.054993</td>\n",
              "      <td>935435</td>\n",
              "      <td>0.0</td>\n",
              "      <td>0.0</td>\n",
              "      <td>0.0</td>\n",
              "    </tr>\n",
              "  </tbody>\n",
              "</table>\n",
              "</div>\n",
              "    <div class=\"colab-df-buttons\">\n",
              "\n",
              "  <div class=\"colab-df-container\">\n",
              "    <button class=\"colab-df-convert\" onclick=\"convertToInteractive('df-b4a3ad23-49d7-4922-b871-960453c52cc5')\"\n",
              "            title=\"Convert this dataframe to an interactive table.\"\n",
              "            style=\"display:none;\">\n",
              "\n",
              "  <svg xmlns=\"http://www.w3.org/2000/svg\" height=\"24px\" viewBox=\"0 -960 960 960\">\n",
              "    <path d=\"M120-120v-720h720v720H120Zm60-500h600v-160H180v160Zm220 220h160v-160H400v160Zm0 220h160v-160H400v160ZM180-400h160v-160H180v160Zm440 0h160v-160H620v160ZM180-180h160v-160H180v160Zm440 0h160v-160H620v160Z\"/>\n",
              "  </svg>\n",
              "    </button>\n",
              "\n",
              "  <style>\n",
              "    .colab-df-container {\n",
              "      display:flex;\n",
              "      gap: 12px;\n",
              "    }\n",
              "\n",
              "    .colab-df-convert {\n",
              "      background-color: #E8F0FE;\n",
              "      border: none;\n",
              "      border-radius: 50%;\n",
              "      cursor: pointer;\n",
              "      display: none;\n",
              "      fill: #1967D2;\n",
              "      height: 32px;\n",
              "      padding: 0 0 0 0;\n",
              "      width: 32px;\n",
              "    }\n",
              "\n",
              "    .colab-df-convert:hover {\n",
              "      background-color: #E2EBFA;\n",
              "      box-shadow: 0px 1px 2px rgba(60, 64, 67, 0.3), 0px 1px 3px 1px rgba(60, 64, 67, 0.15);\n",
              "      fill: #174EA6;\n",
              "    }\n",
              "\n",
              "    .colab-df-buttons div {\n",
              "      margin-bottom: 4px;\n",
              "    }\n",
              "\n",
              "    [theme=dark] .colab-df-convert {\n",
              "      background-color: #3B4455;\n",
              "      fill: #D2E3FC;\n",
              "    }\n",
              "\n",
              "    [theme=dark] .colab-df-convert:hover {\n",
              "      background-color: #434B5C;\n",
              "      box-shadow: 0px 1px 3px 1px rgba(0, 0, 0, 0.15);\n",
              "      filter: drop-shadow(0px 1px 2px rgba(0, 0, 0, 0.3));\n",
              "      fill: #FFFFFF;\n",
              "    }\n",
              "  </style>\n",
              "\n",
              "    <script>\n",
              "      const buttonEl =\n",
              "        document.querySelector('#df-b4a3ad23-49d7-4922-b871-960453c52cc5 button.colab-df-convert');\n",
              "      buttonEl.style.display =\n",
              "        google.colab.kernel.accessAllowed ? 'block' : 'none';\n",
              "\n",
              "      async function convertToInteractive(key) {\n",
              "        const element = document.querySelector('#df-b4a3ad23-49d7-4922-b871-960453c52cc5');\n",
              "        const dataTable =\n",
              "          await google.colab.kernel.invokeFunction('convertToInteractive',\n",
              "                                                    [key], {});\n",
              "        if (!dataTable) return;\n",
              "\n",
              "        const docLinkHtml = 'Like what you see? Visit the ' +\n",
              "          '<a target=\"_blank\" href=https://colab.research.google.com/notebooks/data_table.ipynb>data table notebook</a>'\n",
              "          + ' to learn more about interactive tables.';\n",
              "        element.innerHTML = '';\n",
              "        dataTable['output_type'] = 'display_data';\n",
              "        await google.colab.output.renderOutput(dataTable, element);\n",
              "        const docLink = document.createElement('div');\n",
              "        docLink.innerHTML = docLinkHtml;\n",
              "        element.appendChild(docLink);\n",
              "      }\n",
              "    </script>\n",
              "  </div>\n",
              "\n",
              "\n",
              "    <div id=\"df-49b8956e-1439-485e-968c-6f79c3f9493c\">\n",
              "      <button class=\"colab-df-quickchart\" onclick=\"quickchart('df-49b8956e-1439-485e-968c-6f79c3f9493c')\"\n",
              "                title=\"Suggest charts\"\n",
              "                style=\"display:none;\">\n",
              "\n",
              "<svg xmlns=\"http://www.w3.org/2000/svg\" height=\"24px\"viewBox=\"0 0 24 24\"\n",
              "     width=\"24px\">\n",
              "    <g>\n",
              "        <path d=\"M19 3H5c-1.1 0-2 .9-2 2v14c0 1.1.9 2 2 2h14c1.1 0 2-.9 2-2V5c0-1.1-.9-2-2-2zM9 17H7v-7h2v7zm4 0h-2V7h2v10zm4 0h-2v-4h2v4z\"/>\n",
              "    </g>\n",
              "</svg>\n",
              "      </button>\n",
              "\n",
              "<style>\n",
              "  .colab-df-quickchart {\n",
              "      --bg-color: #E8F0FE;\n",
              "      --fill-color: #1967D2;\n",
              "      --hover-bg-color: #E2EBFA;\n",
              "      --hover-fill-color: #174EA6;\n",
              "      --disabled-fill-color: #AAA;\n",
              "      --disabled-bg-color: #DDD;\n",
              "  }\n",
              "\n",
              "  [theme=dark] .colab-df-quickchart {\n",
              "      --bg-color: #3B4455;\n",
              "      --fill-color: #D2E3FC;\n",
              "      --hover-bg-color: #434B5C;\n",
              "      --hover-fill-color: #FFFFFF;\n",
              "      --disabled-bg-color: #3B4455;\n",
              "      --disabled-fill-color: #666;\n",
              "  }\n",
              "\n",
              "  .colab-df-quickchart {\n",
              "    background-color: var(--bg-color);\n",
              "    border: none;\n",
              "    border-radius: 50%;\n",
              "    cursor: pointer;\n",
              "    display: none;\n",
              "    fill: var(--fill-color);\n",
              "    height: 32px;\n",
              "    padding: 0;\n",
              "    width: 32px;\n",
              "  }\n",
              "\n",
              "  .colab-df-quickchart:hover {\n",
              "    background-color: var(--hover-bg-color);\n",
              "    box-shadow: 0 1px 2px rgba(60, 64, 67, 0.3), 0 1px 3px 1px rgba(60, 64, 67, 0.15);\n",
              "    fill: var(--button-hover-fill-color);\n",
              "  }\n",
              "\n",
              "  .colab-df-quickchart-complete:disabled,\n",
              "  .colab-df-quickchart-complete:disabled:hover {\n",
              "    background-color: var(--disabled-bg-color);\n",
              "    fill: var(--disabled-fill-color);\n",
              "    box-shadow: none;\n",
              "  }\n",
              "\n",
              "  .colab-df-spinner {\n",
              "    border: 2px solid var(--fill-color);\n",
              "    border-color: transparent;\n",
              "    border-bottom-color: var(--fill-color);\n",
              "    animation:\n",
              "      spin 1s steps(1) infinite;\n",
              "  }\n",
              "\n",
              "  @keyframes spin {\n",
              "    0% {\n",
              "      border-color: transparent;\n",
              "      border-bottom-color: var(--fill-color);\n",
              "      border-left-color: var(--fill-color);\n",
              "    }\n",
              "    20% {\n",
              "      border-color: transparent;\n",
              "      border-left-color: var(--fill-color);\n",
              "      border-top-color: var(--fill-color);\n",
              "    }\n",
              "    30% {\n",
              "      border-color: transparent;\n",
              "      border-left-color: var(--fill-color);\n",
              "      border-top-color: var(--fill-color);\n",
              "      border-right-color: var(--fill-color);\n",
              "    }\n",
              "    40% {\n",
              "      border-color: transparent;\n",
              "      border-right-color: var(--fill-color);\n",
              "      border-top-color: var(--fill-color);\n",
              "    }\n",
              "    60% {\n",
              "      border-color: transparent;\n",
              "      border-right-color: var(--fill-color);\n",
              "    }\n",
              "    80% {\n",
              "      border-color: transparent;\n",
              "      border-right-color: var(--fill-color);\n",
              "      border-bottom-color: var(--fill-color);\n",
              "    }\n",
              "    90% {\n",
              "      border-color: transparent;\n",
              "      border-bottom-color: var(--fill-color);\n",
              "    }\n",
              "  }\n",
              "</style>\n",
              "\n",
              "      <script>\n",
              "        async function quickchart(key) {\n",
              "          const quickchartButtonEl =\n",
              "            document.querySelector('#' + key + ' button');\n",
              "          quickchartButtonEl.disabled = true;  // To prevent multiple clicks.\n",
              "          quickchartButtonEl.classList.add('colab-df-spinner');\n",
              "          try {\n",
              "            const charts = await google.colab.kernel.invokeFunction(\n",
              "                'suggestCharts', [key], {});\n",
              "          } catch (error) {\n",
              "            console.error('Error during call to suggestCharts:', error);\n",
              "          }\n",
              "          quickchartButtonEl.classList.remove('colab-df-spinner');\n",
              "          quickchartButtonEl.classList.add('colab-df-quickchart-complete');\n",
              "        }\n",
              "        (() => {\n",
              "          let quickchartButtonEl =\n",
              "            document.querySelector('#df-49b8956e-1439-485e-968c-6f79c3f9493c button');\n",
              "          quickchartButtonEl.style.display =\n",
              "            google.colab.kernel.accessAllowed ? 'block' : 'none';\n",
              "        })();\n",
              "      </script>\n",
              "    </div>\n",
              "\n",
              "    </div>\n",
              "  </div>\n"
            ],
            "application/vnd.google.colaboratory.intrinsic+json": {
              "type": "dataframe",
              "variable_name": "df",
              "summary": "{\n  \"name\": \"df\",\n  \"rows\": 490,\n  \"fields\": [\n    {\n      \"column\": \"Datetime\",\n      \"properties\": {\n        \"dtype\": \"date\",\n        \"min\": \"2025-08-13 09:30:00-04:00\",\n        \"max\": \"2025-08-21 11:15:00-04:00\",\n        \"num_unique_values\": 490,\n        \"samples\": [\n          \"2025-08-20 14:40:00-04:00\",\n          \"2025-08-14 10:00:00-04:00\",\n          \"2025-08-20 13:10:00-04:00\"\n        ],\n        \"semantic_type\": \"\",\n        \"description\": \"\"\n      }\n    },\n    {\n      \"column\": \"Open\",\n      \"properties\": {\n        \"dtype\": \"number\",\n        \"std\": 3.119539852252918,\n        \"min\": 633.1300048828125,\n        \"max\": 646.0599975585938,\n        \"num_unique_values\": 364,\n        \"samples\": [\n          643.10498046875,\n          643.4000244140625,\n          644.22998046875\n        ],\n        \"semantic_type\": \"\",\n        \"description\": \"\"\n      }\n    },\n    {\n      \"column\": \"High\",\n      \"properties\": {\n        \"dtype\": \"number\",\n        \"std\": 3.0721108556964363,\n        \"min\": 633.4500122070312,\n        \"max\": 646.1900024414062,\n        \"num_unique_values\": 403,\n        \"samples\": [\n          644.3599853515625,\n          639.8599853515625,\n          640.0900268554688\n        ],\n        \"semantic_type\": \"\",\n        \"description\": \"\"\n      }\n    },\n    {\n      \"column\": \"Low\",\n      \"properties\": {\n        \"dtype\": \"number\",\n        \"std\": 3.1817377911463165,\n        \"min\": 632.9500122070312,\n        \"max\": 645.8599853515625,\n        \"num_unique_values\": 380,\n        \"samples\": [\n          638.9099731445312,\n          639.7100219726562,\n          639.030029296875\n        ],\n        \"semantic_type\": \"\",\n        \"description\": \"\"\n      }\n    },\n    {\n      \"column\": \"Close\",\n      \"properties\": {\n        \"dtype\": \"number\",\n        \"std\": 3.123509538317663,\n        \"min\": 633.136474609375,\n        \"max\": 646.0549926757812,\n        \"num_unique_values\": 405,\n        \"samples\": [\n          644.8800048828125,\n          642.8599243164062,\n          636.3699951171875\n        ],\n        \"semantic_type\": \"\",\n        \"description\": \"\"\n      }\n    },\n    {\n      \"column\": \"Volume\",\n      \"properties\": {\n        \"dtype\": \"number\",\n        \"std\": 624692,\n        \"min\": 191626,\n        \"max\": 5199320,\n        \"num_unique_values\": 490,\n        \"samples\": [\n          584331,\n          646425,\n          344817\n        ],\n        \"semantic_type\": \"\",\n        \"description\": \"\"\n      }\n    },\n    {\n      \"column\": \"Dividends\",\n      \"properties\": {\n        \"dtype\": \"number\",\n        \"std\": 0.0,\n        \"min\": 0.0,\n        \"max\": 0.0,\n        \"num_unique_values\": 1,\n        \"samples\": [\n          0.0\n        ],\n        \"semantic_type\": \"\",\n        \"description\": \"\"\n      }\n    },\n    {\n      \"column\": \"Stock Splits\",\n      \"properties\": {\n        \"dtype\": \"number\",\n        \"std\": 0.0,\n        \"min\": 0.0,\n        \"max\": 0.0,\n        \"num_unique_values\": 1,\n        \"samples\": [\n          0.0\n        ],\n        \"semantic_type\": \"\",\n        \"description\": \"\"\n      }\n    },\n    {\n      \"column\": \"Capital Gains\",\n      \"properties\": {\n        \"dtype\": \"number\",\n        \"std\": 0.0,\n        \"min\": 0.0,\n        \"max\": 0.0,\n        \"num_unique_values\": 1,\n        \"samples\": [\n          0.0\n        ],\n        \"semantic_type\": \"\",\n        \"description\": \"\"\n      }\n    }\n  ]\n}"
            }
          },
          "metadata": {},
          "execution_count": 1
        }
      ],
      "source": [
        "import yfinance as yf\n",
        "import pandas as pd\n",
        "import matplotlib.pyplot as plt\n",
        "\n",
        "# 5 min intervals for last 7 days\n",
        "ticker = yf.Ticker(\"SPY\")\n",
        "df = ticker.history(interval=\"5m\", period = \"7d\")\n",
        "\n",
        "df.head()"
      ]
    },
    {
      "cell_type": "code",
      "source": [
        "#plot of 5min closing price\n",
        "\n",
        "df['Close'].plot(figsize=(15,5), title=\"SPY 5 Min Close Prices\")\n",
        "plt.xlabel(\"Time\")\n",
        "plt.ylabel(\"Price\")\n",
        "plt.grid(True)\n",
        "plt.show()"
      ],
      "metadata": {
        "id": "PBXeKUUNNjbb"
      },
      "execution_count": null,
      "outputs": []
    },
    {
      "cell_type": "code",
      "source": [
        "df_cleaned = df[['Open', 'High', 'Low', 'Close', 'Volume']]\n",
        "df_cleaned.to_csv(\"spy_intraday.csv\")\n",
        "\n",
        "#OHLCV - Open: Price at start of interval, High: Highest price during interval, Low: Lowest price during interval,\n",
        "#Close: Price at end of interval, Volume: Number of shares traded during the interval\n"
      ],
      "metadata": {
        "id": "jlPjpaILNlPo"
      },
      "execution_count": null,
      "outputs": []
    },
    {
      "cell_type": "code",
      "source": [
        "import os\n",
        "os.listdir()"
      ],
      "metadata": {
        "id": "19al0eLWNoDh"
      },
      "execution_count": null,
      "outputs": []
    },
    {
      "cell_type": "markdown",
      "source": [
        "Part 2 - Features"
      ],
      "metadata": {
        "id": "cWonNs64NuAf"
      }
    },
    {
      "cell_type": "code",
      "source": [
        "import pandas as pd\n",
        "\n",
        "df = pd.read_csv(\"spy_intraday.csv\", index_col=0, parse_dates=True)\n",
        "df.head()\n",
        "\n"
      ],
      "metadata": {
        "id": "fFCHz8KtNprq"
      },
      "execution_count": null,
      "outputs": []
    },
    {
      "cell_type": "code",
      "source": [
        "import os\n",
        "os.listdir()\n"
      ],
      "metadata": {
        "id": "7dn5FgjWNrrS"
      },
      "execution_count": null,
      "outputs": []
    },
    {
      "cell_type": "code",
      "source": [
        "#log returns - % change from each bar\n",
        "\n",
        "df['Return'] = (df['Close'] / df['Close'].shift(1))-1"
      ],
      "metadata": {
        "id": "qp0uTao9N3b_"
      },
      "execution_count": null,
      "outputs": []
    },
    {
      "cell_type": "code",
      "source": [
        "#lag(see the past)\n",
        "\n",
        "for i in range(1, 6):\n",
        "    df[f'return_lag_{i}'] = df['Return'].shift(i)"
      ],
      "metadata": {
        "id": "eWEIFpwfN5fT"
      },
      "execution_count": null,
      "outputs": []
    },
    {
      "cell_type": "code",
      "source": [
        "pip install ta"
      ],
      "metadata": {
        "id": "kQ1yuCg3N7dk"
      },
      "execution_count": null,
      "outputs": []
    },
    {
      "cell_type": "code",
      "source": [
        "from ta.trend import MACD\n",
        "from ta.momentum import RSIIndicator\n",
        "from ta.volatility import BollingerBands\n",
        "\n",
        "#rsi\n",
        "rsi = RSIIndicator(close=df['Close'])\n",
        "df['RSI'] = rsi.rsi()\n",
        "\n",
        "#momentum indicator\n",
        "macd = MACD(close=df['Close'])\n",
        "df['MACD'] = macd.macd_diff()\n",
        "\n",
        "#Volatility\n",
        "bb = BollingerBands(close=df['Close'])\n",
        "df['BB_High'] = bb.bollinger_hband()\n",
        "df['BB_Low'] = bb.bollinger_lband()\n",
        "df['BB_Width'] = bb.bollinger_wband()"
      ],
      "metadata": {
        "id": "NMyyg5r1N-uP"
      },
      "execution_count": null,
      "outputs": []
    },
    {
      "cell_type": "code",
      "source": [
        "df = df.dropna()\n",
        "df.head()"
      ],
      "metadata": {
        "id": "CZXc2YPpOBT_"
      },
      "execution_count": null,
      "outputs": []
    },
    {
      "cell_type": "code",
      "source": [
        "df.to_csv(\"spy_features.csv\")"
      ],
      "metadata": {
        "id": "U7RIGpVvOC_e"
      },
      "execution_count": null,
      "outputs": []
    },
    {
      "cell_type": "markdown",
      "source": [
        "Part 3 - Target eda"
      ],
      "metadata": {
        "id": "cXh27qe4OE-c"
      }
    },
    {
      "cell_type": "code",
      "source": [
        "import pandas as pd\n",
        "\n",
        "df = pd.read_csv(\"spy_features.csv\", index_col=0, parse_dates=True)\n",
        "df.head()"
      ],
      "metadata": {
        "id": "4xvVm5dJOIWL"
      },
      "execution_count": null,
      "outputs": []
    },
    {
      "cell_type": "code",
      "source": [
        "#1 if price goes up; 0 if price goes down or stays the same\n",
        "\n",
        "df['Target'] = (df['Return'].shift(-1) > 0).astype(int)"
      ],
      "metadata": {
        "id": "BukJbQ4TOLpd"
      },
      "execution_count": null,
      "outputs": []
    },
    {
      "cell_type": "code",
      "source": [
        "df = df.dropna()\n"
      ],
      "metadata": {
        "id": "izM3lgm4OOqe"
      },
      "execution_count": null,
      "outputs": []
    },
    {
      "cell_type": "code",
      "source": [
        "df['Target'].value_counts(normalize=True)\n",
        "#proportion of up/down in dataset"
      ],
      "metadata": {
        "id": "3T4D4ly3OQLw"
      },
      "execution_count": null,
      "outputs": []
    },
    {
      "cell_type": "code",
      "source": [
        "!pip install seaborn"
      ],
      "metadata": {
        "id": "Gee6dhEaOSW8"
      },
      "execution_count": null,
      "outputs": []
    },
    {
      "cell_type": "code",
      "source": [
        "import seaborn as sns\n",
        "import matplotlib.pyplot as plt\n",
        "\n",
        "correlation = df.corr()['Target'].sort_values(ascending=False)\n",
        "print(correlation)"
      ],
      "metadata": {
        "id": "VWsufoMvOUFq"
      },
      "execution_count": null,
      "outputs": []
    },
    {
      "cell_type": "code",
      "source": [
        "plt.figure(figsize=(12, 8))\n",
        "sns.heatmap(df.corr(), annot=True, fmt=\".2f\", cmap=\"coolwarm\")\n",
        "plt.title(\"Feature Correlation Matrix\")\n",
        "plt.show()\n"
      ],
      "metadata": {
        "id": "8MoDjTueOVd3"
      },
      "execution_count": null,
      "outputs": []
    },
    {
      "cell_type": "code",
      "source": [
        "sns.boxplot(x='Target', y='RSI', data=df)\n",
        "plt.title(\"RSI vs. Next-Bar Direction\")\n",
        "plt.show()\n"
      ],
      "metadata": {
        "id": "THXNLfJkOXI6"
      },
      "execution_count": null,
      "outputs": []
    },
    {
      "cell_type": "code",
      "source": [
        "df.to_csv(\"spy_features.csv\")\n"
      ],
      "metadata": {
        "id": "ivTn2RUzOalP"
      },
      "execution_count": null,
      "outputs": []
    },
    {
      "cell_type": "markdown",
      "source": [
        "Day 4 - Model Training"
      ],
      "metadata": {
        "id": "g1DDyiaQOc1C"
      }
    },
    {
      "cell_type": "code",
      "source": [
        "import pandas as pd\n",
        "\n",
        "df = pd.read_csv(\"spy_features.csv\", index_col=0, parse_dates=True)"
      ],
      "metadata": {
        "id": "qsKWJzGYOjSU"
      },
      "execution_count": null,
      "outputs": []
    },
    {
      "cell_type": "code",
      "source": [
        "features = ['Volume', 'Return'] + [f'return_lag_{i}' for i in range(1, 6)] + ['RSI', 'MACD', 'BB_High', 'BB_Low', 'BB_Width']\n",
        "\n",
        "X = df[features]\n",
        "y = df['Target']"
      ],
      "metadata": {
        "id": "Yb5EcUF_Oj3u"
      },
      "execution_count": null,
      "outputs": []
    },
    {
      "cell_type": "code",
      "source": [
        "split = int(0.8 * len(df))\n",
        "X_train, X_test = X[:split], X[split:]\n",
        "y_train, y_test = y[:split], y[split:]\n"
      ],
      "metadata": {
        "id": "uGFBjgOOOlNF"
      },
      "execution_count": null,
      "outputs": []
    },
    {
      "cell_type": "code",
      "source": [
        "!pip install scikit-learn\n"
      ],
      "metadata": {
        "id": "S3U4m0KVOm0F"
      },
      "execution_count": null,
      "outputs": []
    },
    {
      "cell_type": "code",
      "source": [
        "from sklearn.ensemble import RandomForestClassifier\n",
        "\n",
        "model = RandomForestClassifier(n_estimators=100, random_state=42)\n",
        "model.fit(X_train, y_train)\n"
      ],
      "metadata": {
        "id": "IrbsmdLLOoLI"
      },
      "execution_count": null,
      "outputs": []
    },
    {
      "cell_type": "code",
      "source": [
        "from sklearn.metrics import accuracy_score, classification_report, confusion_matrix\n",
        "\n",
        "y_pred = model.predict(X_test)\n",
        "\n",
        "print(\"Accuracy:\", accuracy_score(y_test, y_pred))\n",
        "print(\"\\nClassification Report:\\n\", classification_report(y_test, y_pred))"
      ],
      "metadata": {
        "id": "DZD5EPneOqwS"
      },
      "execution_count": null,
      "outputs": []
    },
    {
      "cell_type": "code",
      "source": [
        "import seaborn as sns\n",
        "import matplotlib.pyplot as plt\n",
        "\n",
        "sns.heatmap(confusion_matrix(y_test, y_pred), annot=True, fmt=\"d\", cmap=\"Blues\")\n",
        "plt.title(\"Confusion Matrix\")\n",
        "plt.xlabel(\"Predicted\")\n",
        "plt.ylabel(\"Actual\")\n",
        "plt.show()"
      ],
      "metadata": {
        "id": "Rvy6vfZvOrKC"
      },
      "execution_count": null,
      "outputs": []
    },
    {
      "cell_type": "code",
      "source": [
        "import numpy as np\n",
        "\n",
        "importances = model.feature_importances_\n",
        "sorted_indices = np.argsort(importances)[::-1]\n",
        "\n",
        "for i in sorted_indices:\n",
        "    print(f\"{features[i]}: {importances[i]:.4f}\")"
      ],
      "metadata": {
        "id": "l-OiRXGSOsfV"
      },
      "execution_count": null,
      "outputs": []
    },
    {
      "cell_type": "code",
      "source": [
        "from sklearn.model_selection import GridSearchCV\n",
        "from sklearn.ensemble import RandomForestClassifier\n",
        "\n",
        "\n",
        "param_grid = {\n",
        "    'n_estimators': [50, 100, 200],\n",
        "    'max_depth': [None, 5, 10],\n",
        "    'min_samples_split': [2, 5],\n",
        "}\n",
        "\n",
        "#Grid search with 3-fold cross-validation\n",
        "grid_search = GridSearchCV(\n",
        "    estimator=RandomForestClassifier(random_state=42),\n",
        "    param_grid=param_grid,\n",
        "    cv=3,\n",
        "    scoring='accuracy',\n",
        "    verbose=1\n",
        ")\n",
        "\n",
        "grid_search.fit(X_train, y_train)\n",
        "\n",
        "# Best parameters and score\n",
        "print(\"Best Params:\", grid_search.best_params_)\n",
        "print(\"Best CV Score:\", grid_search.best_score_)\n"
      ],
      "metadata": {
        "id": "8mCfvt56OtwD"
      },
      "execution_count": null,
      "outputs": []
    },
    {
      "cell_type": "code",
      "source": [
        "# Refit model with best parameters\n",
        "best_model = grid_search.best_estimator_\n",
        "best_model.fit(X_train, y_train)\n"
      ],
      "metadata": {
        "id": "cogCfhEjOvYS"
      },
      "execution_count": null,
      "outputs": []
    },
    {
      "cell_type": "code",
      "source": [
        "df[\"Signal\"] = best_model.predict(X)\n"
      ],
      "metadata": {
        "id": "M0CSkldpOwxr"
      },
      "execution_count": null,
      "outputs": []
    },
    {
      "cell_type": "code",
      "source": [
        "df[\"Signal\"] = df[\"Signal\"].shift(1)\n"
      ],
      "metadata": {
        "id": "ZUGTK5KtOyxh"
      },
      "execution_count": null,
      "outputs": []
    },
    {
      "cell_type": "code",
      "source": [
        "# Calculate returns when model says \"buy\"\n",
        "df[\"Strategy_Returns\"] = df[\"Signal\"] * df[\"Return\"]\n"
      ],
      "metadata": {
        "id": "1crXpaBuO0VS"
      },
      "execution_count": null,
      "outputs": []
    },
    {
      "cell_type": "code",
      "source": [
        "import matplotlib.pyplot as plt\n",
        "\n",
        "df[[\"Return\", \"Strategy_Returns\"]].cumsum().plot(figsize=(10, 5))\n",
        "plt.title(\"Cumulative Returns: Market vs Model Strategy\")\n",
        "plt.show()\n"
      ],
      "metadata": {
        "id": "XYbpUuJYO1hZ"
      },
      "execution_count": null,
      "outputs": []
    },
    {
      "cell_type": "code",
      "source": [
        "import numpy as np\n",
        "\n",
        "strategy_returns = df[\"Strategy_Returns\"].dropna()\n",
        "sharpe_ratio = np.mean(strategy_returns) / np.std(strategy_returns) * np.sqrt(252*6.5*60)  # intraday minutes per year\n",
        "print(\"Sharpe Ratio:\", sharpe_ratio)"
      ],
      "metadata": {
        "id": "ZmbIujVlO3K0"
      },
      "execution_count": null,
      "outputs": []
    },
    {
      "cell_type": "code",
      "source": [
        "cumulative = (1 + strategy_returns).cumprod()\n",
        "peak = cumulative.cummax()\n",
        "drawdown = (cumulative - peak) / peak\n",
        "max_drawdown = drawdown.min()\n",
        "print(\"Max Drawdown:\", max_drawdown)\n"
      ],
      "metadata": {
        "id": "9_A-4uxGO4tp"
      },
      "execution_count": null,
      "outputs": []
    },
    {
      "cell_type": "code",
      "source": [
        "num_trades = (df[\"Signal\"].diff() == 1).sum()\n",
        "win_trades = df.loc[df[\"Strategy_Returns\"] > 0, \"Strategy_Returns\"].count()\n",
        "win_rate = win_trades / num_trades\n",
        "avg_win = df.loc[df[\"Strategy_Returns\"] > 0, \"Strategy_Returns\"].mean()\n",
        "avg_loss = df.loc[df[\"Strategy_Returns\"] < 0, \"Strategy_Returns\"].mean()\n",
        "\n",
        "print(\"Number of Trades:\", num_trades)\n",
        "print(\"Win Rate:\", win_rate)\n",
        "print(\"Avg Win:\", avg_win)\n",
        "print(\"Avg Loss:\", avg_loss)\n"
      ],
      "metadata": {
        "id": "-5yk2COtO6BV"
      },
      "execution_count": null,
      "outputs": []
    },
    {
      "cell_type": "code",
      "source": [
        "# Use model's predicted probability instead of hard 0/1\n",
        "df[\"Prob_1\"] = best_model.predict_proba(X)[:, 1]\n",
        "df[\"Signal\"] = df[\"Prob_1\"]  # position sizing based on confidence\n",
        "df[\"Signal\"] = df[\"Signal\"].shift(1)\n",
        "\n",
        "df[\"Strategy_Returns\"] = df[\"Signal\"] * df[\"Return\"]\n"
      ],
      "metadata": {
        "id": "LfIcZDDEO7ew"
      },
      "execution_count": null,
      "outputs": []
    },
    {
      "cell_type": "code",
      "source": [
        "from sklearn.ensemble import GradientBoostingClassifier\n",
        "\n",
        "model = GradientBoostingClassifier(n_estimators=100, random_state=42)\n",
        "model.fit(X_train, y_train)\n"
      ],
      "metadata": {
        "id": "PHyjML2UO9U2"
      },
      "execution_count": null,
      "outputs": []
    }
  ]
}